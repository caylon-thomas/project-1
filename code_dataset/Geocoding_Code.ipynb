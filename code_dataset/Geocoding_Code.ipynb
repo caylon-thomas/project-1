{
 "cells": [
  {
   "cell_type": "code",
   "execution_count": null,
   "metadata": {},
   "outputs": [
    {
     "name": "stderr",
     "output_type": "stream",
     "text": [
      "/Users/caylonthomas/anaconda3/envs/pythonexample2/lib/python3.6/site-packages/geopy/geocoders/osm.py:143: UserWarning: Using Nominatim with the default \"geopy/1.17.0\" `user_agent` is strongly discouraged, as it violates Nominatim's ToS https://operations.osmfoundation.org/policies/nominatim/ and may possibly cause 403 and 429 HTTP errors. Please specify a custom `user_agent` with `Nominatim(user_agent=\"my-application\")` or by overriding the default `user_agent`: `geopy.geocoders.options.default_user_agent = \"my-application\"`. In geopy 2.0 this will become an exception.\n",
      "  UserWarning\n"
     ]
    }
   ],
   "source": [
    "import csv\n",
    "from geopy.geocoders import Nominatim\n",
    "\n",
    "with open('capital_bikeshare20132014.csv', 'r') as csvinput:\n",
    "    with open('longlat.csv', 'w') as csvoutput:\n",
    "       output_fieldnames = ['Start station', 'Address_found', 'Latitude', 'Longitude']\n",
    "       writer = csv.DictWriter(csvoutput, delimiter=';', fieldnames=output_fieldnames)\n",
    "       writer.writeheader()\n",
    "       reader = csv.DictReader(csvinput)\n",
    "       for row in reader:\n",
    "            site = row['Start station']\n",
    "            if site != \"NULL\":\n",
    "                try:\n",
    "                    location = geolocator.geocode(site)\n",
    "                    address = location.address\n",
    "                    latitude = location.latitude\n",
    "                    longitude = location.longitude\n",
    "                except:\n",
    "                    address = 'Not found'\n",
    "                    latitude = 'N/A'\n",
    "                    longitude = 'N/A'\n",
    "            else:\n",
    "                address = 'N/A'\n",
    "                latitude = 'N/A'\n",
    "                longitude = 'N/A'\n",
    "\n",
    "            #here is the writing section\n",
    "            output_row = {}\n",
    "            output_row['Start station'] = row['Start station']\n",
    "            output_row['Address_found'] = address.encode(\"utf-8\")\n",
    "            output_row['Latitude'] = latitude\n",
    "            output_row['Longitude'] = longitude\n",
    "            writer.writerow(output_row)"
   ]
  },
  {
   "cell_type": "code",
   "execution_count": null,
   "metadata": {},
   "outputs": [],
   "source": []
  }
 ],
 "metadata": {
  "kernelspec": {
   "display_name": "Python 3",
   "language": "python",
   "name": "python3"
  },
  "language_info": {
   "codemirror_mode": {
    "name": "ipython",
    "version": 3
   },
   "file_extension": ".py",
   "mimetype": "text/x-python",
   "name": "python",
   "nbconvert_exporter": "python",
   "pygments_lexer": "ipython3",
   "version": "3.6.5"
  }
 },
 "nbformat": 4,
 "nbformat_minor": 2
}
